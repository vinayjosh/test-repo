{
 "cells": [
  {
   "cell_type": "markdown",
   "id": "5a501b6e",
   "metadata": {},
   "source": [
    "Data Quality Check Framework:\n",
    "\n",
    "* Accuracy - Current Data Vs Live Data\n",
    "* Consistency - Checking for Nulls, Nan, Blanks\n",
    "* Completeness - Uniform data along all systems\n",
    "* Uniqueness - Dealing with Duplicates\n",
    "\n",
    "Flow: \n",
    "\n",
    "Read database -> Access Tables -> Check for Nulls/ Counts/Duplicates\n",
    "-> Print "
   ]
  },
  {
   "cell_type": "code",
   "execution_count": null,
   "id": "6f6477e0",
   "metadata": {},
   "outputs": [],
   "source": []
  }
 ],
 "metadata": {
  "kernelspec": {
   "display_name": "Python 3 (ipykernel)",
   "language": "python",
   "name": "python3"
  },
  "language_info": {
   "codemirror_mode": {
    "name": "ipython",
    "version": 3
   },
   "file_extension": ".py",
   "mimetype": "text/x-python",
   "name": "python",
   "nbconvert_exporter": "python",
   "pygments_lexer": "ipython3",
   "version": "3.9.12"
  }
 },
 "nbformat": 4,
 "nbformat_minor": 5
}
